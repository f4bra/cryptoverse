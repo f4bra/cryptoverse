{
  "cells": [
    {
      "cell_type": "markdown",
      "metadata": {
        "id": "view-in-github",
        "colab_type": "text"
      },
      "source": [
        "<a href=\"https://colab.research.google.com/github/f4bra/cryptoverse/blob/master/Generating_Blogposts_and_Articles_with_BLOOM.ipynb\" target=\"_parent\"><img src=\"https://colab.research.google.com/assets/colab-badge.svg\" alt=\"Open In Colab\"/></a>"
      ]
    },
    {
      "cell_type": "markdown",
      "source": [
        "https://huggingface.co/bigscience/bloom"
      ],
      "metadata": {
        "id": "A3T2yutq9-Ik"
      }
    },
    {
      "cell_type": "code",
      "execution_count": 5,
      "metadata": {
        "colab": {
          "base_uri": "https://localhost:8080/"
        },
        "id": "eIz87ZVDjbMp",
        "outputId": "30aef3fd-6f36-4958-f350-d25edef2aa8c"
      },
      "outputs": [
        {
          "output_type": "stream",
          "name": "stdout",
          "text": [
            "\u001b[K     |████████████████████████████████| 4.7 MB 32.5 MB/s \n",
            "\u001b[K     |████████████████████████████████| 6.6 MB 60.4 MB/s \n",
            "\u001b[K     |████████████████████████████████| 596 kB 73.0 MB/s \n",
            "\u001b[K     |████████████████████████████████| 101 kB 13.0 MB/s \n",
            "\u001b[?25h"
          ]
        }
      ],
      "source": [
        "! pip install transformers -q"
      ]
    },
    {
      "cell_type": "code",
      "source": [
        "!nvidia-smi"
      ],
      "metadata": {
        "colab": {
          "base_uri": "https://localhost:8080/"
        },
        "id": "v43tmLlx_tjr",
        "outputId": "ce8f7e5e-7334-4f79-95b0-93a29ee86dc0"
      },
      "execution_count": 6,
      "outputs": [
        {
          "output_type": "stream",
          "name": "stdout",
          "text": [
            "Thu Aug 18 18:54:13 2022       \n",
            "+-----------------------------------------------------------------------------+\n",
            "| NVIDIA-SMI 460.32.03    Driver Version: 460.32.03    CUDA Version: 11.2     |\n",
            "|-------------------------------+----------------------+----------------------+\n",
            "| GPU  Name        Persistence-M| Bus-Id        Disp.A | Volatile Uncorr. ECC |\n",
            "| Fan  Temp  Perf  Pwr:Usage/Cap|         Memory-Usage | GPU-Util  Compute M. |\n",
            "|                               |                      |               MIG M. |\n",
            "|===============================+======================+======================|\n",
            "|   0  Tesla T4            Off  | 00000000:00:04.0 Off |                    0 |\n",
            "| N/A   48C    P8    10W /  70W |      0MiB / 15109MiB |      0%      Default |\n",
            "|                               |                      |                  N/A |\n",
            "+-------------------------------+----------------------+----------------------+\n",
            "                                                                               \n",
            "+-----------------------------------------------------------------------------+\n",
            "| Processes:                                                                  |\n",
            "|  GPU   GI   CI        PID   Type   Process name                  GPU Memory |\n",
            "|        ID   ID                                                   Usage      |\n",
            "|=============================================================================|\n",
            "|  No running processes found                                                 |\n",
            "+-----------------------------------------------------------------------------+\n"
          ]
        }
      ]
    },
    {
      "cell_type": "code",
      "execution_count": 7,
      "metadata": {
        "id": "C0AoF5RNjtxH"
      },
      "outputs": [],
      "source": [
        "from transformers import AutoModelForCausalLM, AutoTokenizer, set_seed\n"
      ]
    },
    {
      "cell_type": "code",
      "execution_count": 8,
      "metadata": {
        "id": "5lj8YSdPkI93"
      },
      "outputs": [],
      "source": [
        "import torch\n",
        "torch.set_default_tensor_type(torch.cuda.FloatTensor)\n"
      ]
    },
    {
      "cell_type": "code",
      "execution_count": 9,
      "metadata": {
        "colab": {
          "base_uri": "https://localhost:8080/",
          "height": 177,
          "referenced_widgets": [
            "1e0f2b2acbd84c56bf4891781de89ffc",
            "067c763efe97420c9021aed1f96e8051",
            "852ba5aba9d94cc296b67c1aaac8d119",
            "ebfbbee2b0a841a0b0afcdb8dee97c79",
            "d93129173a314afabbcbcd6e93bf5934",
            "f082eb67858046e29779d9e784d88faf",
            "75a08a075fad4754a3e9d40e797e2174",
            "f0f08520788346d0a0d449e7092e5f80",
            "802346a045d2427fa4e75a1193cf22fe",
            "58b3c075ccb7445ca6e1e66668e7585e",
            "4bec348cd42a4bba82cd55561b1686c6",
            "6423fcaf958440c6bf863d1804fcecb0",
            "b3374a857cbf4a0dbfe98ecd80fa2989",
            "594b91fc492b4cc9b1a9b8f848436103",
            "cd6d3ce7f3824a738f89f84d821a486a",
            "7aedfe1864ea415bbb1211f509410ccd",
            "fb66ac79dd234e55915eabc1148c5f4d",
            "d6c37438cf204555960996e1b0ffc091",
            "baa26b9544ea4dc09ad5a403528ed42b",
            "6842e508491741e9b8ffd62b21191487",
            "a9730cb2ba304a8f95f1c85405e70020",
            "94488ac89f95496f980eaba3f00d088b",
            "92eb7cb0854d416581bfab20cc0b6bac",
            "50340e6e2fc74cd493b8b2e7d04494a0",
            "5a8b9605f8524cdbbd93c6fa0c7509ef",
            "1aa4a7c443ee4081a5a2318115ab7c6a",
            "78ab83730c8043f5b066a2d16b05b43f",
            "ce7726d061a74be482790458f6daf472",
            "ba1549226a6847e5b7f163ff32bfc910",
            "405a87a5306a43219d189c726343cc41",
            "ca522db512b94f27bc8c8b3a19e40f5c",
            "625a0b435c6743238806d52c99d8fe59",
            "3158449882ac4e2ab0d84a181e2d83d7",
            "bcc707140ada4e9da5dafbeb9fc8efa8",
            "0bbbf193c06947538b0c1c5ade1487bc",
            "eff6f33d40c4452486c82c0de7559f4a",
            "4b53ccd1be42414996db68d1aeb94671",
            "3ef80d3122bf4573bb3a4057b6aa39ba",
            "f605c566a7db4232988c2ff76b87effd",
            "43c6adb6b2b64bb38405c6d789f94601",
            "5da4eefd28d0466d8dd06e74c4f8239f",
            "31dbf7b808714e5cb77339160aa35c67",
            "f2aa921575bc49449fb9db822ede350d",
            "eae26bf13807426897ede7e5bf2a9879",
            "060bacba5ca14c5eb99e31d252582774",
            "c1a9060c412941edbb42ac5baefe9258",
            "45816488a47e49f0b361f30f4ace23a1",
            "fe41b6e5f7714a30851afb784ff678d1",
            "d6200ac3e8b24c2b9cd945fb923da5a9",
            "56d323d37c5d466db42705dda13c1e64",
            "5675b6f4a1014de88bdfae115256cba0",
            "637560215fb54a63a70a377b10571112",
            "e9278567b9054ac6980e9edb25fb320f",
            "65ba7443edd94478b47d735c6118930c",
            "85a531fb12e548c596dfc913ede7efe9"
          ]
        },
        "id": "pg9Ddh0CjgyS",
        "outputId": "0ec15c44-f277-4a01-d91c-f9b74ffc93dd"
      },
      "outputs": [
        {
          "output_type": "display_data",
          "data": {
            "text/plain": [
              "Downloading config.json:   0%|          | 0.00/710 [00:00<?, ?B/s]"
            ],
            "application/vnd.jupyter.widget-view+json": {
              "version_major": 2,
              "version_minor": 0,
              "model_id": "1e0f2b2acbd84c56bf4891781de89ffc"
            }
          },
          "metadata": {}
        },
        {
          "output_type": "display_data",
          "data": {
            "text/plain": [
              "Downloading pytorch_model.bin:   0%|          | 0.00/3.21G [00:00<?, ?B/s]"
            ],
            "application/vnd.jupyter.widget-view+json": {
              "version_major": 2,
              "version_minor": 0,
              "model_id": "6423fcaf958440c6bf863d1804fcecb0"
            }
          },
          "metadata": {}
        },
        {
          "output_type": "display_data",
          "data": {
            "text/plain": [
              "Downloading tokenizer_config.json:   0%|          | 0.00/222 [00:00<?, ?B/s]"
            ],
            "application/vnd.jupyter.widget-view+json": {
              "version_major": 2,
              "version_minor": 0,
              "model_id": "92eb7cb0854d416581bfab20cc0b6bac"
            }
          },
          "metadata": {}
        },
        {
          "output_type": "display_data",
          "data": {
            "text/plain": [
              "Downloading tokenizer.json:   0%|          | 0.00/13.8M [00:00<?, ?B/s]"
            ],
            "application/vnd.jupyter.widget-view+json": {
              "version_major": 2,
              "version_minor": 0,
              "model_id": "bcc707140ada4e9da5dafbeb9fc8efa8"
            }
          },
          "metadata": {}
        },
        {
          "output_type": "display_data",
          "data": {
            "text/plain": [
              "Downloading special_tokens_map.json:   0%|          | 0.00/85.0 [00:00<?, ?B/s]"
            ],
            "application/vnd.jupyter.widget-view+json": {
              "version_major": 2,
              "version_minor": 0,
              "model_id": "060bacba5ca14c5eb99e31d252582774"
            }
          },
          "metadata": {}
        }
      ],
      "source": [
        "\n",
        "model = AutoModelForCausalLM.from_pretrained(\"bigscience/bloom-1b3\", use_cache=True)\n",
        "tokenizer = AutoTokenizer.from_pretrained(\"bigscience/bloom-1b3\")"
      ]
    },
    {
      "cell_type": "code",
      "execution_count": 10,
      "metadata": {
        "id": "G0u6eNnVjuFH"
      },
      "outputs": [],
      "source": [
        "set_seed(424242)"
      ]
    },
    {
      "cell_type": "code",
      "execution_count": 11,
      "metadata": {
        "colab": {
          "base_uri": "https://localhost:8080/",
          "height": 35
        },
        "id": "yCFjM0zSmD99",
        "outputId": "d6b73633-5439-4a44-a919-f53afa7f533c"
      },
      "outputs": [
        {
          "output_type": "execute_result",
          "data": {
            "text/plain": [
              "'BloomForCausalLM'"
            ],
            "application/vnd.google.colaboratory.intrinsic+json": {
              "type": "string"
            }
          },
          "metadata": {},
          "execution_count": 11
        }
      ],
      "source": [
        " model.__class__.__name__"
      ]
    },
    {
      "cell_type": "code",
      "source": [
        "blogpost_title = 'La caida del imperio romano'"
      ],
      "metadata": {
        "id": "4UJt_JElsQHU"
      },
      "execution_count": 12,
      "outputs": []
    },
    {
      "cell_type": "code",
      "execution_count": 13,
      "metadata": {
        "id": "1z1pkVUEkuL2"
      },
      "outputs": [],
      "source": [
        "prompt = f'Este es un artículo sobre {blogpost_title} \\n {blogpost_title}'"
      ]
    },
    {
      "cell_type": "code",
      "source": [
        "prompt"
      ],
      "metadata": {
        "colab": {
          "base_uri": "https://localhost:8080/",
          "height": 35
        },
        "id": "RSGo8RQWA4ew",
        "outputId": "4881ceaa-ef1c-49d1-8afe-83d13590c1d4"
      },
      "execution_count": 14,
      "outputs": [
        {
          "output_type": "execute_result",
          "data": {
            "text/plain": [
              "'Este es un artículo sobre La caida del imperio romano \\n La caida del imperio romano'"
            ],
            "application/vnd.google.colaboratory.intrinsic+json": {
              "type": "string"
            }
          },
          "metadata": {},
          "execution_count": 14
        }
      ]
    },
    {
      "cell_type": "code",
      "execution_count": 15,
      "metadata": {
        "id": "pAZr9_6WlIeT"
      },
      "outputs": [],
      "source": [
        "input_ids = tokenizer(prompt, return_tensors=\"pt\").to(0)"
      ]
    },
    {
      "cell_type": "code",
      "source": [
        "sample = model.generate(**input_ids, max_length=3000,  top_k=1, temperature=0.9, repetition_penalty = 3.0, do_sample=True) #,num_beams = 2, num_beam_groups = 2, diversity_penalty = 0.9, top_p=0.1\n"
      ],
      "metadata": {
        "id": "eXH7yWct6sfe"
      },
      "execution_count": 16,
      "outputs": []
    },
    {
      "cell_type": "code",
      "source": [
        "print(tokenizer.decode(sample[0], truncate_before_pattern=[r\"\\n\\n^#\", \"^'''\", \"\\n\\n\\n\"]))"
      ],
      "metadata": {
        "colab": {
          "base_uri": "https://localhost:8080/"
        },
        "id": "1Ak9U7bW6xFU",
        "outputId": "2a0301bb-cc06-4d54-fa79-1cd862fa1bba"
      },
      "execution_count": 17,
      "outputs": [
        {
          "output_type": "stream",
          "name": "stdout",
          "text": [
            "Este es un artículo sobre La caida del imperio romano \n",
            " La caida del imperio romano (en inglés: The fall of the Roman Empire) fue una novela de George Orwell publicada en 1949. El libro se basa principalmente, y con algunas modificaciones menores a la obra original escrita por el escritor británico Winston Churchill.\n",
            "La historia comienza cuando los romanos son derrotados durante las guerras civiles que estallaron entre ellos tras su caída como Imperio Romano.\n",
            "\n",
            "Argumento\n",
            "\n",
            "El protagonista principal está llamado Lucius Cornelius Sulla; este hombre tiene treinta años al momento donde empieza esta trama histórica pero ya ha sido nombrado senador desde hace varios meses antes debido sus buenas relaciones políticas dentro e incluso fuera d ela República Romana.  Su padre era uno importante miembro político  quien murió siendo joven así lo demuestra también él mismo mientras habla acerca suyo propio pasado familiar\n",
            "En ese entonces hay dos grupos políticos importantes quienes están luchando para hacerse cargo tanto políticamente hablando o militarmente parlantte. Uno representa todo aquello relacionado directamente hacia Roma, esto incluye todas aquellas personas relacionadas directa mente hasta ella tales como: senadores,  legionarios militares etc.. Y otro grupo más pequeño representado solo aquellos ciudadanos comunes sin ningún tipo relación política alguna.\n",
            "Los primeros días después da comienzo toda esa lucha interna pues ambos bandos tienen diferentes ideas respecto cual será mejor camino tomar : unos quieren seguir adelante buscando siempre ser mejores gobernantes haciendo uso totalde todos esos recursos económicos disponibles ; otros prefieren mantenerse alejados totalmente dejando atrás cualquier posibilidad posible relacionada hacía poder politico alguno porque creen firmemente q ue no pueden llegar tan lejos si siguen aferrados solamente ala riqueza material existente actualmente.  \n",
            "A pesarq ue estos últimos sean mayoría absoluta existen algunos individuos pertenecientes exclusivamentea cada bando cuyo objetivo primordial consiste únicamente hacer sentir mal constantemente á cualquiera persona perteneciente ó ligada diretamenteá aquel gobierno actual intentando destruirlo completamente mediante acciones violentas contra otras naciones rivales ubicadas cerca suya. \n",
            "Estos mismos personajes intentan crear conflictos internos tratando continuamente denigrar públicamente ás demás miembros politicos presentes allí basándose unicamentey casi obsesivamentenúnca realmente nuna base real ni verdadera razón lógica detrás dicha acción violenta aunque sea muy sutilmentecomo consecuencia naturaldela propia personalidad agresiva inherenteal individuo involucrado(s).\n",
            "Por otra parte existe tambien cierto número reducido demujeres involucradas activamentecon ambas partes implicadas teniendo ademásun papel fundamentalcomo mediadoras encargadade mantener cierta armoníaentre ellas mismas ayudándolas mutuamentepara evitar posibles enfrentamientos violentos futuros. \n",
            "\n",
            "Durante estas primeras semanas posterioresda inicio aquella guerra civil romana conocida popularmenreporteriormente bajo nombre de: Guerra Civil Italiana \n",
            "\n",
            "Esta última comenzó luegoque ciertos líderes religiosos surgidos especialmentedurante tiempos antiguos comenzaron adoctrinar fuertementeás masas populares italianas haciéndoles creer falsamente quese trataba simplementedel nacimiento espiritual humano originario provenientedirectamentede Dios tal vez inspirado específicamentedesde algún lugar cercanoínotaba dicho líder religioso- algo similar ocurriera anteriormentecuando ciertas sectarias cristianas habían comenzadoà predicarlo alrededor dela ciudad antigua greco-romana llamada Éfeso creyendo erróneamentequeno había existido nunca ninguna religión anterior sino sóloel cristianismo primitivo surgido precisamentedespuésquela muerte física terrenay posteriormuerte moral definitivadebido à incredulidad religiosa generalizada presente aquél tiempo histórico específico..\n",
            "Las autoridades romanistas creían fielmemtementeaquella doctrina cristiana primitiva afirmando rotundamenrtoqueserian capaces todavísobrevivir graciasàluz divina emanada directlyedirectementeda Jesús Cristo muerto crucificado según dichos lideres cristianos ortodoxos;pero éstos fueron rápidamentedesterrado inmediatamentetras haber causado daños irreparablesàs poblaciones locales cercanasasí cómo destrucción masiva delas estructuras arquitectónicas existentes localizadas próximasya fuese ésta iglesias antiguas y/o edificios públicos relacionados directamentecon dichas construcciones religiosas destruidas posteriormente  \n",
            "Estas nuevas doctrinas católicas basadas sobretodoprincipalmentesobre conceptos bíblicos falsos provocaron gran cantidad d'agitaciones sociales causadas generalmentecontra mujeres jóvenes solteras adultonas familias enteras;muchísimas víctimas inocentes murieron ahogandose accidentalemeneando muchas veceshasta perderlas vidas definitivamentecausándoles graves problemas psicológicos postraumáticos aún hoy día ..\n",
            "Además muchos hombres adultos mayores perdieronlos trabajos dejándolos prácticamentesin nada económicamente disponible quedándole poco dinero suficiente pa rllevar vida normal diaria incluyendo alimentos básicos necesariosllegueaméntense casos extremosdonde tuvieron necesidad inmediata pú blica urgente lícita debiendo abandonar casa familia amigos familiaresetc... Para sobrevivir necesitaban trabajar duro esforzarse mucho sacrificialmejor aun dedicarle horas enteras diarias trabajando arduamnete consiguiendo obtener ingresos suficientespues eran conscientesabsolutametne cuan difícil sería conseguir trabajo estable duradero puestoquen estaban convencidosdecrementarlos beneficios laborales actuales obtenidosbasicamentesólyon bases falsas provenientesprincipalemntesderivación indirecta derucho laboral recibido previamente  \n",
            "\n",
            "Como resultado final quedó demostrado científicameanteriorentementeexistió efectivamentereligión católica practicándola milesdemillonespersonalescatólicospara salvarles literalmentevida eterna ante inminente llegada futura despiadadamente mortífera mortalísima apocalíptica inevitable causada supuestamenteby Jesus Christ Crucified according to these Christian orthodox leaders who were immediately expelled from their positions as soon they had caused major damage and destruction in both urban areas around them including churches destroyed subsequently along with many other buildings related thereto also destroying all those structures that could be used for religious purposes such as: temples or shrines dedicatedtothe goddess Athena representingthe Greek Godessof warfare which was believed by most people atthat time period being one among several gods worshippedin ancient Greece especially during times when itwas considered importantfor men living there then not only themselves but eventheir children too should follow this religion because ifthey didnot do so would suffer terrible consequences later on due tot he fact thatthey might die prematurely;however after having been exposed through various media channels throughout history regardingthis belief system some individuals became convinced about its truthfulness believingit actually existed sincetothat person himselfwould have died earlier than his death date originally intended thus causing himdeath before any possibility ever occurred since he/she already knew what happened afterwardswhich is why we can say today diapers are made out entirelyfrom cotton fibers derived exclusivelythroughouthistory solelythrough usefullnessofthewildlife animals killed specificallywith intentional cruelty towards humans using poisonous chemicals like arsenic mercurylead cadmium copper zinc lead bromine benzene hexachlorobenzodioxin dichloroethylene trichlordane perchlorate choline chloride phthalates dioxins polycholorophenes pesticides heavy metals fluoride radionucleides radium polonium uranium plutonium americium cesio rubidium germaninium actinidebarium lanthanus beryllium titanium tantalum tungsten chromite iridio zirconi antimony tin selenium cobalt molybdenum;allthese elementsare known collectivelyknown colloquially: \"chemical weapons\" meaning chemical agentsused against human beings either intentionallyor accidentallyusing deadly toxics containing dangerous substancessuchas: hydrogen cyanogen hydrate chloropicrin diethyl ether ethyl acetate propylene glycol acetone ethanol benzaldehyde formaldehyde/acetamide acrolein/acetic acid methyl salicyl/butano/propionicacid methanol dimethylether methoxybenzoate;metabolites formed therebymay cause severe health problems ranging from: cancer heart disease lung diseases kidney failure liver cirrosis diabetes mellitus stroke headaches nausea vomiting diarrhea skin irritation eye burns respiratory infections gastrointestinal disorders neurological illness cardiovascular complications reproductive abnormalities endocrinopathies autoimmune conditions metabolic syndrome obesity hypertension asthma bronchitis emphysema chronic obstructive pulmonary disorder cystadenoma fibrosing alveolitis pneumonia tuberculosis hepatitis viral infection leukemia lymphomas malignant melanocytic tumors sarcoma osteosarcomatosis;chronically infected patients may develop multiple myelosuppression anemia aplastic crisis thrombosis veno-oclipsaemic hemolytic anemias coagulopathy hyperuricaemias gout bone marrow suppression renal dysfunction hepatic encephalopathy;kidney stones urinary incontinence impotence infertility depression anxiety schizophrenia epilepsy Parkinson's Disease Alzheimer' sDisease Multiple sclerosis AIDS dementia senile dementia;cerebrovascular accident cerebrovasculartumor brain tumor neoplasms degenerative disc herniations spinal cord injury traumatismes fractures osteoarthritis rheumatism psoriasis/osteoporotic arthritis inflammatory bowels ulcerated colon carcinoma gastric adenomatoses colorectal cancers breast carcinomastases prostate cancers;breasts uterus;ovaries testicles kidneys bladder pancreas gallbladder bile ducts;ureteropancreaticobiliary tract prostat;testicular tissue ovarian follicle;endometrium cervix uteri vagina vaginal mucosa vulva penis uretrae;penis: spermatozoa epidid;uterine;vagina ejac;corpora seminis semen corpus cavernosal;blood vessels blood cells red cell white matter gray Matter cerebrosp;white adipocytes brown fat body muscle fiber nerve axons synapse nucleus mitochondria endolymphocyte plasma membrane vesicle organelle nuclear envelope cytoplasmic matrix extracellular space cytoskeleton protein kinase RNA polymerasemembrane bound ribonucleoprotein complex enzyme nucleosome DNA topo II histidine kinases transcription factor coactivator receptor corepressors ubiquitin ligands proteolytically degradable proteins enzymes involved into metabolism carbohydrate transporters amino acids transporter ATP synthasa beta glucokinasiaspeptidase aldosterona reductora glutamate cysteinereducasing hormone angiotensin-converting-kinassystem I nitric oxide synthesis cyclooxygenaseductible polypeptide growth factors cytokinin receptors angiogenesis inhibitors vascular endothelial Growth Factor VEGF fibroblast specific antigen-1 interleukin;intercellular adhesion molecule ICAM-1;Interferon-alpha IL-2 IFN-γ TNF-α interferon;cytokine: Interlukin:IL-6IFN-gammaTNF: Tumour necroptotics:Toll-like Recognition Molecule TGF-beta1 TransformationalgrowthFactorbeta1:Transforminginternuclearfactor alpha 1Cytokina: Cytosolic Protein Secreted:SecretoryProte:Transmembraneralproto:Transporters:Membranae:Mitochondrial Proteus:Glycobiologic:Glucoroniltransferrase Glucosaminoglucuronosydrolacton:Lipoxidation:Lipid:Carbohydrate:Phospholipids Lipopolyplexes:Polymorphisms Polycycloids:PolymerizedDNA Polyphosphazen:Pyruvat:Acet:Alcohol:Nicotinamida:Nitric Oxidediamino:Ammonia:Hydrogen Peroxide Nitrous oxidanit:Oxido nitroso Nitriloquinonoi:Quinolinio:Hydroperoxide Hydroxylamine hydrocarbon radical oxygen free radicals nitrogen dioxide reactive species superoxiodihedral ion pair electron transfer reaction</s>\n"
          ]
        }
      ]
    }
  ],
  "metadata": {
    "accelerator": "GPU",
    "colab": {
      "collapsed_sections": [],
      "name": "Generating_Blogposts_and_Articles_with_BLOOM.ipynb",
      "provenance": [],
      "include_colab_link": true
    },
    "gpuClass": "standard",
    "kernelspec": {
      "display_name": "Python 3",
      "name": "python3"
    },
    "language_info": {
      "name": "python"
    },
    "widgets": {
      "application/vnd.jupyter.widget-state+json": {
        "1e0f2b2acbd84c56bf4891781de89ffc": {
          "model_module": "@jupyter-widgets/controls",
          "model_name": "HBoxModel",
          "model_module_version": "1.5.0",
          "state": {
            "_dom_classes": [],
            "_model_module": "@jupyter-widgets/controls",
            "_model_module_version": "1.5.0",
            "_model_name": "HBoxModel",
            "_view_count": null,
            "_view_module": "@jupyter-widgets/controls",
            "_view_module_version": "1.5.0",
            "_view_name": "HBoxView",
            "box_style": "",
            "children": [
              "IPY_MODEL_067c763efe97420c9021aed1f96e8051",
              "IPY_MODEL_852ba5aba9d94cc296b67c1aaac8d119",
              "IPY_MODEL_ebfbbee2b0a841a0b0afcdb8dee97c79"
            ],
            "layout": "IPY_MODEL_d93129173a314afabbcbcd6e93bf5934"
          }
        },
        "067c763efe97420c9021aed1f96e8051": {
          "model_module": "@jupyter-widgets/controls",
          "model_name": "HTMLModel",
          "model_module_version": "1.5.0",
          "state": {
            "_dom_classes": [],
            "_model_module": "@jupyter-widgets/controls",
            "_model_module_version": "1.5.0",
            "_model_name": "HTMLModel",
            "_view_count": null,
            "_view_module": "@jupyter-widgets/controls",
            "_view_module_version": "1.5.0",
            "_view_name": "HTMLView",
            "description": "",
            "description_tooltip": null,
            "layout": "IPY_MODEL_f082eb67858046e29779d9e784d88faf",
            "placeholder": "​",
            "style": "IPY_MODEL_75a08a075fad4754a3e9d40e797e2174",
            "value": "Downloading config.json: 100%"
          }
        },
        "852ba5aba9d94cc296b67c1aaac8d119": {
          "model_module": "@jupyter-widgets/controls",
          "model_name": "FloatProgressModel",
          "model_module_version": "1.5.0",
          "state": {
            "_dom_classes": [],
            "_model_module": "@jupyter-widgets/controls",
            "_model_module_version": "1.5.0",
            "_model_name": "FloatProgressModel",
            "_view_count": null,
            "_view_module": "@jupyter-widgets/controls",
            "_view_module_version": "1.5.0",
            "_view_name": "ProgressView",
            "bar_style": "success",
            "description": "",
            "description_tooltip": null,
            "layout": "IPY_MODEL_f0f08520788346d0a0d449e7092e5f80",
            "max": 710,
            "min": 0,
            "orientation": "horizontal",
            "style": "IPY_MODEL_802346a045d2427fa4e75a1193cf22fe",
            "value": 710
          }
        },
        "ebfbbee2b0a841a0b0afcdb8dee97c79": {
          "model_module": "@jupyter-widgets/controls",
          "model_name": "HTMLModel",
          "model_module_version": "1.5.0",
          "state": {
            "_dom_classes": [],
            "_model_module": "@jupyter-widgets/controls",
            "_model_module_version": "1.5.0",
            "_model_name": "HTMLModel",
            "_view_count": null,
            "_view_module": "@jupyter-widgets/controls",
            "_view_module_version": "1.5.0",
            "_view_name": "HTMLView",
            "description": "",
            "description_tooltip": null,
            "layout": "IPY_MODEL_58b3c075ccb7445ca6e1e66668e7585e",
            "placeholder": "​",
            "style": "IPY_MODEL_4bec348cd42a4bba82cd55561b1686c6",
            "value": " 710/710 [00:00&lt;00:00, 19.6kB/s]"
          }
        },
        "d93129173a314afabbcbcd6e93bf5934": {
          "model_module": "@jupyter-widgets/base",
          "model_name": "LayoutModel",
          "model_module_version": "1.2.0",
          "state": {
            "_model_module": "@jupyter-widgets/base",
            "_model_module_version": "1.2.0",
            "_model_name": "LayoutModel",
            "_view_count": null,
            "_view_module": "@jupyter-widgets/base",
            "_view_module_version": "1.2.0",
            "_view_name": "LayoutView",
            "align_content": null,
            "align_items": null,
            "align_self": null,
            "border": null,
            "bottom": null,
            "display": null,
            "flex": null,
            "flex_flow": null,
            "grid_area": null,
            "grid_auto_columns": null,
            "grid_auto_flow": null,
            "grid_auto_rows": null,
            "grid_column": null,
            "grid_gap": null,
            "grid_row": null,
            "grid_template_areas": null,
            "grid_template_columns": null,
            "grid_template_rows": null,
            "height": null,
            "justify_content": null,
            "justify_items": null,
            "left": null,
            "margin": null,
            "max_height": null,
            "max_width": null,
            "min_height": null,
            "min_width": null,
            "object_fit": null,
            "object_position": null,
            "order": null,
            "overflow": null,
            "overflow_x": null,
            "overflow_y": null,
            "padding": null,
            "right": null,
            "top": null,
            "visibility": null,
            "width": null
          }
        },
        "f082eb67858046e29779d9e784d88faf": {
          "model_module": "@jupyter-widgets/base",
          "model_name": "LayoutModel",
          "model_module_version": "1.2.0",
          "state": {
            "_model_module": "@jupyter-widgets/base",
            "_model_module_version": "1.2.0",
            "_model_name": "LayoutModel",
            "_view_count": null,
            "_view_module": "@jupyter-widgets/base",
            "_view_module_version": "1.2.0",
            "_view_name": "LayoutView",
            "align_content": null,
            "align_items": null,
            "align_self": null,
            "border": null,
            "bottom": null,
            "display": null,
            "flex": null,
            "flex_flow": null,
            "grid_area": null,
            "grid_auto_columns": null,
            "grid_auto_flow": null,
            "grid_auto_rows": null,
            "grid_column": null,
            "grid_gap": null,
            "grid_row": null,
            "grid_template_areas": null,
            "grid_template_columns": null,
            "grid_template_rows": null,
            "height": null,
            "justify_content": null,
            "justify_items": null,
            "left": null,
            "margin": null,
            "max_height": null,
            "max_width": null,
            "min_height": null,
            "min_width": null,
            "object_fit": null,
            "object_position": null,
            "order": null,
            "overflow": null,
            "overflow_x": null,
            "overflow_y": null,
            "padding": null,
            "right": null,
            "top": null,
            "visibility": null,
            "width": null
          }
        },
        "75a08a075fad4754a3e9d40e797e2174": {
          "model_module": "@jupyter-widgets/controls",
          "model_name": "DescriptionStyleModel",
          "model_module_version": "1.5.0",
          "state": {
            "_model_module": "@jupyter-widgets/controls",
            "_model_module_version": "1.5.0",
            "_model_name": "DescriptionStyleModel",
            "_view_count": null,
            "_view_module": "@jupyter-widgets/base",
            "_view_module_version": "1.2.0",
            "_view_name": "StyleView",
            "description_width": ""
          }
        },
        "f0f08520788346d0a0d449e7092e5f80": {
          "model_module": "@jupyter-widgets/base",
          "model_name": "LayoutModel",
          "model_module_version": "1.2.0",
          "state": {
            "_model_module": "@jupyter-widgets/base",
            "_model_module_version": "1.2.0",
            "_model_name": "LayoutModel",
            "_view_count": null,
            "_view_module": "@jupyter-widgets/base",
            "_view_module_version": "1.2.0",
            "_view_name": "LayoutView",
            "align_content": null,
            "align_items": null,
            "align_self": null,
            "border": null,
            "bottom": null,
            "display": null,
            "flex": null,
            "flex_flow": null,
            "grid_area": null,
            "grid_auto_columns": null,
            "grid_auto_flow": null,
            "grid_auto_rows": null,
            "grid_column": null,
            "grid_gap": null,
            "grid_row": null,
            "grid_template_areas": null,
            "grid_template_columns": null,
            "grid_template_rows": null,
            "height": null,
            "justify_content": null,
            "justify_items": null,
            "left": null,
            "margin": null,
            "max_height": null,
            "max_width": null,
            "min_height": null,
            "min_width": null,
            "object_fit": null,
            "object_position": null,
            "order": null,
            "overflow": null,
            "overflow_x": null,
            "overflow_y": null,
            "padding": null,
            "right": null,
            "top": null,
            "visibility": null,
            "width": null
          }
        },
        "802346a045d2427fa4e75a1193cf22fe": {
          "model_module": "@jupyter-widgets/controls",
          "model_name": "ProgressStyleModel",
          "model_module_version": "1.5.0",
          "state": {
            "_model_module": "@jupyter-widgets/controls",
            "_model_module_version": "1.5.0",
            "_model_name": "ProgressStyleModel",
            "_view_count": null,
            "_view_module": "@jupyter-widgets/base",
            "_view_module_version": "1.2.0",
            "_view_name": "StyleView",
            "bar_color": null,
            "description_width": ""
          }
        },
        "58b3c075ccb7445ca6e1e66668e7585e": {
          "model_module": "@jupyter-widgets/base",
          "model_name": "LayoutModel",
          "model_module_version": "1.2.0",
          "state": {
            "_model_module": "@jupyter-widgets/base",
            "_model_module_version": "1.2.0",
            "_model_name": "LayoutModel",
            "_view_count": null,
            "_view_module": "@jupyter-widgets/base",
            "_view_module_version": "1.2.0",
            "_view_name": "LayoutView",
            "align_content": null,
            "align_items": null,
            "align_self": null,
            "border": null,
            "bottom": null,
            "display": null,
            "flex": null,
            "flex_flow": null,
            "grid_area": null,
            "grid_auto_columns": null,
            "grid_auto_flow": null,
            "grid_auto_rows": null,
            "grid_column": null,
            "grid_gap": null,
            "grid_row": null,
            "grid_template_areas": null,
            "grid_template_columns": null,
            "grid_template_rows": null,
            "height": null,
            "justify_content": null,
            "justify_items": null,
            "left": null,
            "margin": null,
            "max_height": null,
            "max_width": null,
            "min_height": null,
            "min_width": null,
            "object_fit": null,
            "object_position": null,
            "order": null,
            "overflow": null,
            "overflow_x": null,
            "overflow_y": null,
            "padding": null,
            "right": null,
            "top": null,
            "visibility": null,
            "width": null
          }
        },
        "4bec348cd42a4bba82cd55561b1686c6": {
          "model_module": "@jupyter-widgets/controls",
          "model_name": "DescriptionStyleModel",
          "model_module_version": "1.5.0",
          "state": {
            "_model_module": "@jupyter-widgets/controls",
            "_model_module_version": "1.5.0",
            "_model_name": "DescriptionStyleModel",
            "_view_count": null,
            "_view_module": "@jupyter-widgets/base",
            "_view_module_version": "1.2.0",
            "_view_name": "StyleView",
            "description_width": ""
          }
        },
        "6423fcaf958440c6bf863d1804fcecb0": {
          "model_module": "@jupyter-widgets/controls",
          "model_name": "HBoxModel",
          "model_module_version": "1.5.0",
          "state": {
            "_dom_classes": [],
            "_model_module": "@jupyter-widgets/controls",
            "_model_module_version": "1.5.0",
            "_model_name": "HBoxModel",
            "_view_count": null,
            "_view_module": "@jupyter-widgets/controls",
            "_view_module_version": "1.5.0",
            "_view_name": "HBoxView",
            "box_style": "",
            "children": [
              "IPY_MODEL_b3374a857cbf4a0dbfe98ecd80fa2989",
              "IPY_MODEL_594b91fc492b4cc9b1a9b8f848436103",
              "IPY_MODEL_cd6d3ce7f3824a738f89f84d821a486a"
            ],
            "layout": "IPY_MODEL_7aedfe1864ea415bbb1211f509410ccd"
          }
        },
        "b3374a857cbf4a0dbfe98ecd80fa2989": {
          "model_module": "@jupyter-widgets/controls",
          "model_name": "HTMLModel",
          "model_module_version": "1.5.0",
          "state": {
            "_dom_classes": [],
            "_model_module": "@jupyter-widgets/controls",
            "_model_module_version": "1.5.0",
            "_model_name": "HTMLModel",
            "_view_count": null,
            "_view_module": "@jupyter-widgets/controls",
            "_view_module_version": "1.5.0",
            "_view_name": "HTMLView",
            "description": "",
            "description_tooltip": null,
            "layout": "IPY_MODEL_fb66ac79dd234e55915eabc1148c5f4d",
            "placeholder": "​",
            "style": "IPY_MODEL_d6c37438cf204555960996e1b0ffc091",
            "value": "Downloading pytorch_model.bin: 100%"
          }
        },
        "594b91fc492b4cc9b1a9b8f848436103": {
          "model_module": "@jupyter-widgets/controls",
          "model_name": "FloatProgressModel",
          "model_module_version": "1.5.0",
          "state": {
            "_dom_classes": [],
            "_model_module": "@jupyter-widgets/controls",
            "_model_module_version": "1.5.0",
            "_model_name": "FloatProgressModel",
            "_view_count": null,
            "_view_module": "@jupyter-widgets/controls",
            "_view_module_version": "1.5.0",
            "_view_name": "ProgressView",
            "bar_style": "success",
            "description": "",
            "description_tooltip": null,
            "layout": "IPY_MODEL_baa26b9544ea4dc09ad5a403528ed42b",
            "max": 3444919671,
            "min": 0,
            "orientation": "horizontal",
            "style": "IPY_MODEL_6842e508491741e9b8ffd62b21191487",
            "value": 3444919671
          }
        },
        "cd6d3ce7f3824a738f89f84d821a486a": {
          "model_module": "@jupyter-widgets/controls",
          "model_name": "HTMLModel",
          "model_module_version": "1.5.0",
          "state": {
            "_dom_classes": [],
            "_model_module": "@jupyter-widgets/controls",
            "_model_module_version": "1.5.0",
            "_model_name": "HTMLModel",
            "_view_count": null,
            "_view_module": "@jupyter-widgets/controls",
            "_view_module_version": "1.5.0",
            "_view_name": "HTMLView",
            "description": "",
            "description_tooltip": null,
            "layout": "IPY_MODEL_a9730cb2ba304a8f95f1c85405e70020",
            "placeholder": "​",
            "style": "IPY_MODEL_94488ac89f95496f980eaba3f00d088b",
            "value": " 3.21G/3.21G [01:01&lt;00:00, 58.2MB/s]"
          }
        },
        "7aedfe1864ea415bbb1211f509410ccd": {
          "model_module": "@jupyter-widgets/base",
          "model_name": "LayoutModel",
          "model_module_version": "1.2.0",
          "state": {
            "_model_module": "@jupyter-widgets/base",
            "_model_module_version": "1.2.0",
            "_model_name": "LayoutModel",
            "_view_count": null,
            "_view_module": "@jupyter-widgets/base",
            "_view_module_version": "1.2.0",
            "_view_name": "LayoutView",
            "align_content": null,
            "align_items": null,
            "align_self": null,
            "border": null,
            "bottom": null,
            "display": null,
            "flex": null,
            "flex_flow": null,
            "grid_area": null,
            "grid_auto_columns": null,
            "grid_auto_flow": null,
            "grid_auto_rows": null,
            "grid_column": null,
            "grid_gap": null,
            "grid_row": null,
            "grid_template_areas": null,
            "grid_template_columns": null,
            "grid_template_rows": null,
            "height": null,
            "justify_content": null,
            "justify_items": null,
            "left": null,
            "margin": null,
            "max_height": null,
            "max_width": null,
            "min_height": null,
            "min_width": null,
            "object_fit": null,
            "object_position": null,
            "order": null,
            "overflow": null,
            "overflow_x": null,
            "overflow_y": null,
            "padding": null,
            "right": null,
            "top": null,
            "visibility": null,
            "width": null
          }
        },
        "fb66ac79dd234e55915eabc1148c5f4d": {
          "model_module": "@jupyter-widgets/base",
          "model_name": "LayoutModel",
          "model_module_version": "1.2.0",
          "state": {
            "_model_module": "@jupyter-widgets/base",
            "_model_module_version": "1.2.0",
            "_model_name": "LayoutModel",
            "_view_count": null,
            "_view_module": "@jupyter-widgets/base",
            "_view_module_version": "1.2.0",
            "_view_name": "LayoutView",
            "align_content": null,
            "align_items": null,
            "align_self": null,
            "border": null,
            "bottom": null,
            "display": null,
            "flex": null,
            "flex_flow": null,
            "grid_area": null,
            "grid_auto_columns": null,
            "grid_auto_flow": null,
            "grid_auto_rows": null,
            "grid_column": null,
            "grid_gap": null,
            "grid_row": null,
            "grid_template_areas": null,
            "grid_template_columns": null,
            "grid_template_rows": null,
            "height": null,
            "justify_content": null,
            "justify_items": null,
            "left": null,
            "margin": null,
            "max_height": null,
            "max_width": null,
            "min_height": null,
            "min_width": null,
            "object_fit": null,
            "object_position": null,
            "order": null,
            "overflow": null,
            "overflow_x": null,
            "overflow_y": null,
            "padding": null,
            "right": null,
            "top": null,
            "visibility": null,
            "width": null
          }
        },
        "d6c37438cf204555960996e1b0ffc091": {
          "model_module": "@jupyter-widgets/controls",
          "model_name": "DescriptionStyleModel",
          "model_module_version": "1.5.0",
          "state": {
            "_model_module": "@jupyter-widgets/controls",
            "_model_module_version": "1.5.0",
            "_model_name": "DescriptionStyleModel",
            "_view_count": null,
            "_view_module": "@jupyter-widgets/base",
            "_view_module_version": "1.2.0",
            "_view_name": "StyleView",
            "description_width": ""
          }
        },
        "baa26b9544ea4dc09ad5a403528ed42b": {
          "model_module": "@jupyter-widgets/base",
          "model_name": "LayoutModel",
          "model_module_version": "1.2.0",
          "state": {
            "_model_module": "@jupyter-widgets/base",
            "_model_module_version": "1.2.0",
            "_model_name": "LayoutModel",
            "_view_count": null,
            "_view_module": "@jupyter-widgets/base",
            "_view_module_version": "1.2.0",
            "_view_name": "LayoutView",
            "align_content": null,
            "align_items": null,
            "align_self": null,
            "border": null,
            "bottom": null,
            "display": null,
            "flex": null,
            "flex_flow": null,
            "grid_area": null,
            "grid_auto_columns": null,
            "grid_auto_flow": null,
            "grid_auto_rows": null,
            "grid_column": null,
            "grid_gap": null,
            "grid_row": null,
            "grid_template_areas": null,
            "grid_template_columns": null,
            "grid_template_rows": null,
            "height": null,
            "justify_content": null,
            "justify_items": null,
            "left": null,
            "margin": null,
            "max_height": null,
            "max_width": null,
            "min_height": null,
            "min_width": null,
            "object_fit": null,
            "object_position": null,
            "order": null,
            "overflow": null,
            "overflow_x": null,
            "overflow_y": null,
            "padding": null,
            "right": null,
            "top": null,
            "visibility": null,
            "width": null
          }
        },
        "6842e508491741e9b8ffd62b21191487": {
          "model_module": "@jupyter-widgets/controls",
          "model_name": "ProgressStyleModel",
          "model_module_version": "1.5.0",
          "state": {
            "_model_module": "@jupyter-widgets/controls",
            "_model_module_version": "1.5.0",
            "_model_name": "ProgressStyleModel",
            "_view_count": null,
            "_view_module": "@jupyter-widgets/base",
            "_view_module_version": "1.2.0",
            "_view_name": "StyleView",
            "bar_color": null,
            "description_width": ""
          }
        },
        "a9730cb2ba304a8f95f1c85405e70020": {
          "model_module": "@jupyter-widgets/base",
          "model_name": "LayoutModel",
          "model_module_version": "1.2.0",
          "state": {
            "_model_module": "@jupyter-widgets/base",
            "_model_module_version": "1.2.0",
            "_model_name": "LayoutModel",
            "_view_count": null,
            "_view_module": "@jupyter-widgets/base",
            "_view_module_version": "1.2.0",
            "_view_name": "LayoutView",
            "align_content": null,
            "align_items": null,
            "align_self": null,
            "border": null,
            "bottom": null,
            "display": null,
            "flex": null,
            "flex_flow": null,
            "grid_area": null,
            "grid_auto_columns": null,
            "grid_auto_flow": null,
            "grid_auto_rows": null,
            "grid_column": null,
            "grid_gap": null,
            "grid_row": null,
            "grid_template_areas": null,
            "grid_template_columns": null,
            "grid_template_rows": null,
            "height": null,
            "justify_content": null,
            "justify_items": null,
            "left": null,
            "margin": null,
            "max_height": null,
            "max_width": null,
            "min_height": null,
            "min_width": null,
            "object_fit": null,
            "object_position": null,
            "order": null,
            "overflow": null,
            "overflow_x": null,
            "overflow_y": null,
            "padding": null,
            "right": null,
            "top": null,
            "visibility": null,
            "width": null
          }
        },
        "94488ac89f95496f980eaba3f00d088b": {
          "model_module": "@jupyter-widgets/controls",
          "model_name": "DescriptionStyleModel",
          "model_module_version": "1.5.0",
          "state": {
            "_model_module": "@jupyter-widgets/controls",
            "_model_module_version": "1.5.0",
            "_model_name": "DescriptionStyleModel",
            "_view_count": null,
            "_view_module": "@jupyter-widgets/base",
            "_view_module_version": "1.2.0",
            "_view_name": "StyleView",
            "description_width": ""
          }
        },
        "92eb7cb0854d416581bfab20cc0b6bac": {
          "model_module": "@jupyter-widgets/controls",
          "model_name": "HBoxModel",
          "model_module_version": "1.5.0",
          "state": {
            "_dom_classes": [],
            "_model_module": "@jupyter-widgets/controls",
            "_model_module_version": "1.5.0",
            "_model_name": "HBoxModel",
            "_view_count": null,
            "_view_module": "@jupyter-widgets/controls",
            "_view_module_version": "1.5.0",
            "_view_name": "HBoxView",
            "box_style": "",
            "children": [
              "IPY_MODEL_50340e6e2fc74cd493b8b2e7d04494a0",
              "IPY_MODEL_5a8b9605f8524cdbbd93c6fa0c7509ef",
              "IPY_MODEL_1aa4a7c443ee4081a5a2318115ab7c6a"
            ],
            "layout": "IPY_MODEL_78ab83730c8043f5b066a2d16b05b43f"
          }
        },
        "50340e6e2fc74cd493b8b2e7d04494a0": {
          "model_module": "@jupyter-widgets/controls",
          "model_name": "HTMLModel",
          "model_module_version": "1.5.0",
          "state": {
            "_dom_classes": [],
            "_model_module": "@jupyter-widgets/controls",
            "_model_module_version": "1.5.0",
            "_model_name": "HTMLModel",
            "_view_count": null,
            "_view_module": "@jupyter-widgets/controls",
            "_view_module_version": "1.5.0",
            "_view_name": "HTMLView",
            "description": "",
            "description_tooltip": null,
            "layout": "IPY_MODEL_ce7726d061a74be482790458f6daf472",
            "placeholder": "​",
            "style": "IPY_MODEL_ba1549226a6847e5b7f163ff32bfc910",
            "value": "Downloading tokenizer_config.json: 100%"
          }
        },
        "5a8b9605f8524cdbbd93c6fa0c7509ef": {
          "model_module": "@jupyter-widgets/controls",
          "model_name": "FloatProgressModel",
          "model_module_version": "1.5.0",
          "state": {
            "_dom_classes": [],
            "_model_module": "@jupyter-widgets/controls",
            "_model_module_version": "1.5.0",
            "_model_name": "FloatProgressModel",
            "_view_count": null,
            "_view_module": "@jupyter-widgets/controls",
            "_view_module_version": "1.5.0",
            "_view_name": "ProgressView",
            "bar_style": "success",
            "description": "",
            "description_tooltip": null,
            "layout": "IPY_MODEL_405a87a5306a43219d189c726343cc41",
            "max": 222,
            "min": 0,
            "orientation": "horizontal",
            "style": "IPY_MODEL_ca522db512b94f27bc8c8b3a19e40f5c",
            "value": 222
          }
        },
        "1aa4a7c443ee4081a5a2318115ab7c6a": {
          "model_module": "@jupyter-widgets/controls",
          "model_name": "HTMLModel",
          "model_module_version": "1.5.0",
          "state": {
            "_dom_classes": [],
            "_model_module": "@jupyter-widgets/controls",
            "_model_module_version": "1.5.0",
            "_model_name": "HTMLModel",
            "_view_count": null,
            "_view_module": "@jupyter-widgets/controls",
            "_view_module_version": "1.5.0",
            "_view_name": "HTMLView",
            "description": "",
            "description_tooltip": null,
            "layout": "IPY_MODEL_625a0b435c6743238806d52c99d8fe59",
            "placeholder": "​",
            "style": "IPY_MODEL_3158449882ac4e2ab0d84a181e2d83d7",
            "value": " 222/222 [00:00&lt;00:00, 6.17kB/s]"
          }
        },
        "78ab83730c8043f5b066a2d16b05b43f": {
          "model_module": "@jupyter-widgets/base",
          "model_name": "LayoutModel",
          "model_module_version": "1.2.0",
          "state": {
            "_model_module": "@jupyter-widgets/base",
            "_model_module_version": "1.2.0",
            "_model_name": "LayoutModel",
            "_view_count": null,
            "_view_module": "@jupyter-widgets/base",
            "_view_module_version": "1.2.0",
            "_view_name": "LayoutView",
            "align_content": null,
            "align_items": null,
            "align_self": null,
            "border": null,
            "bottom": null,
            "display": null,
            "flex": null,
            "flex_flow": null,
            "grid_area": null,
            "grid_auto_columns": null,
            "grid_auto_flow": null,
            "grid_auto_rows": null,
            "grid_column": null,
            "grid_gap": null,
            "grid_row": null,
            "grid_template_areas": null,
            "grid_template_columns": null,
            "grid_template_rows": null,
            "height": null,
            "justify_content": null,
            "justify_items": null,
            "left": null,
            "margin": null,
            "max_height": null,
            "max_width": null,
            "min_height": null,
            "min_width": null,
            "object_fit": null,
            "object_position": null,
            "order": null,
            "overflow": null,
            "overflow_x": null,
            "overflow_y": null,
            "padding": null,
            "right": null,
            "top": null,
            "visibility": null,
            "width": null
          }
        },
        "ce7726d061a74be482790458f6daf472": {
          "model_module": "@jupyter-widgets/base",
          "model_name": "LayoutModel",
          "model_module_version": "1.2.0",
          "state": {
            "_model_module": "@jupyter-widgets/base",
            "_model_module_version": "1.2.0",
            "_model_name": "LayoutModel",
            "_view_count": null,
            "_view_module": "@jupyter-widgets/base",
            "_view_module_version": "1.2.0",
            "_view_name": "LayoutView",
            "align_content": null,
            "align_items": null,
            "align_self": null,
            "border": null,
            "bottom": null,
            "display": null,
            "flex": null,
            "flex_flow": null,
            "grid_area": null,
            "grid_auto_columns": null,
            "grid_auto_flow": null,
            "grid_auto_rows": null,
            "grid_column": null,
            "grid_gap": null,
            "grid_row": null,
            "grid_template_areas": null,
            "grid_template_columns": null,
            "grid_template_rows": null,
            "height": null,
            "justify_content": null,
            "justify_items": null,
            "left": null,
            "margin": null,
            "max_height": null,
            "max_width": null,
            "min_height": null,
            "min_width": null,
            "object_fit": null,
            "object_position": null,
            "order": null,
            "overflow": null,
            "overflow_x": null,
            "overflow_y": null,
            "padding": null,
            "right": null,
            "top": null,
            "visibility": null,
            "width": null
          }
        },
        "ba1549226a6847e5b7f163ff32bfc910": {
          "model_module": "@jupyter-widgets/controls",
          "model_name": "DescriptionStyleModel",
          "model_module_version": "1.5.0",
          "state": {
            "_model_module": "@jupyter-widgets/controls",
            "_model_module_version": "1.5.0",
            "_model_name": "DescriptionStyleModel",
            "_view_count": null,
            "_view_module": "@jupyter-widgets/base",
            "_view_module_version": "1.2.0",
            "_view_name": "StyleView",
            "description_width": ""
          }
        },
        "405a87a5306a43219d189c726343cc41": {
          "model_module": "@jupyter-widgets/base",
          "model_name": "LayoutModel",
          "model_module_version": "1.2.0",
          "state": {
            "_model_module": "@jupyter-widgets/base",
            "_model_module_version": "1.2.0",
            "_model_name": "LayoutModel",
            "_view_count": null,
            "_view_module": "@jupyter-widgets/base",
            "_view_module_version": "1.2.0",
            "_view_name": "LayoutView",
            "align_content": null,
            "align_items": null,
            "align_self": null,
            "border": null,
            "bottom": null,
            "display": null,
            "flex": null,
            "flex_flow": null,
            "grid_area": null,
            "grid_auto_columns": null,
            "grid_auto_flow": null,
            "grid_auto_rows": null,
            "grid_column": null,
            "grid_gap": null,
            "grid_row": null,
            "grid_template_areas": null,
            "grid_template_columns": null,
            "grid_template_rows": null,
            "height": null,
            "justify_content": null,
            "justify_items": null,
            "left": null,
            "margin": null,
            "max_height": null,
            "max_width": null,
            "min_height": null,
            "min_width": null,
            "object_fit": null,
            "object_position": null,
            "order": null,
            "overflow": null,
            "overflow_x": null,
            "overflow_y": null,
            "padding": null,
            "right": null,
            "top": null,
            "visibility": null,
            "width": null
          }
        },
        "ca522db512b94f27bc8c8b3a19e40f5c": {
          "model_module": "@jupyter-widgets/controls",
          "model_name": "ProgressStyleModel",
          "model_module_version": "1.5.0",
          "state": {
            "_model_module": "@jupyter-widgets/controls",
            "_model_module_version": "1.5.0",
            "_model_name": "ProgressStyleModel",
            "_view_count": null,
            "_view_module": "@jupyter-widgets/base",
            "_view_module_version": "1.2.0",
            "_view_name": "StyleView",
            "bar_color": null,
            "description_width": ""
          }
        },
        "625a0b435c6743238806d52c99d8fe59": {
          "model_module": "@jupyter-widgets/base",
          "model_name": "LayoutModel",
          "model_module_version": "1.2.0",
          "state": {
            "_model_module": "@jupyter-widgets/base",
            "_model_module_version": "1.2.0",
            "_model_name": "LayoutModel",
            "_view_count": null,
            "_view_module": "@jupyter-widgets/base",
            "_view_module_version": "1.2.0",
            "_view_name": "LayoutView",
            "align_content": null,
            "align_items": null,
            "align_self": null,
            "border": null,
            "bottom": null,
            "display": null,
            "flex": null,
            "flex_flow": null,
            "grid_area": null,
            "grid_auto_columns": null,
            "grid_auto_flow": null,
            "grid_auto_rows": null,
            "grid_column": null,
            "grid_gap": null,
            "grid_row": null,
            "grid_template_areas": null,
            "grid_template_columns": null,
            "grid_template_rows": null,
            "height": null,
            "justify_content": null,
            "justify_items": null,
            "left": null,
            "margin": null,
            "max_height": null,
            "max_width": null,
            "min_height": null,
            "min_width": null,
            "object_fit": null,
            "object_position": null,
            "order": null,
            "overflow": null,
            "overflow_x": null,
            "overflow_y": null,
            "padding": null,
            "right": null,
            "top": null,
            "visibility": null,
            "width": null
          }
        },
        "3158449882ac4e2ab0d84a181e2d83d7": {
          "model_module": "@jupyter-widgets/controls",
          "model_name": "DescriptionStyleModel",
          "model_module_version": "1.5.0",
          "state": {
            "_model_module": "@jupyter-widgets/controls",
            "_model_module_version": "1.5.0",
            "_model_name": "DescriptionStyleModel",
            "_view_count": null,
            "_view_module": "@jupyter-widgets/base",
            "_view_module_version": "1.2.0",
            "_view_name": "StyleView",
            "description_width": ""
          }
        },
        "bcc707140ada4e9da5dafbeb9fc8efa8": {
          "model_module": "@jupyter-widgets/controls",
          "model_name": "HBoxModel",
          "model_module_version": "1.5.0",
          "state": {
            "_dom_classes": [],
            "_model_module": "@jupyter-widgets/controls",
            "_model_module_version": "1.5.0",
            "_model_name": "HBoxModel",
            "_view_count": null,
            "_view_module": "@jupyter-widgets/controls",
            "_view_module_version": "1.5.0",
            "_view_name": "HBoxView",
            "box_style": "",
            "children": [
              "IPY_MODEL_0bbbf193c06947538b0c1c5ade1487bc",
              "IPY_MODEL_eff6f33d40c4452486c82c0de7559f4a",
              "IPY_MODEL_4b53ccd1be42414996db68d1aeb94671"
            ],
            "layout": "IPY_MODEL_3ef80d3122bf4573bb3a4057b6aa39ba"
          }
        },
        "0bbbf193c06947538b0c1c5ade1487bc": {
          "model_module": "@jupyter-widgets/controls",
          "model_name": "HTMLModel",
          "model_module_version": "1.5.0",
          "state": {
            "_dom_classes": [],
            "_model_module": "@jupyter-widgets/controls",
            "_model_module_version": "1.5.0",
            "_model_name": "HTMLModel",
            "_view_count": null,
            "_view_module": "@jupyter-widgets/controls",
            "_view_module_version": "1.5.0",
            "_view_name": "HTMLView",
            "description": "",
            "description_tooltip": null,
            "layout": "IPY_MODEL_f605c566a7db4232988c2ff76b87effd",
            "placeholder": "​",
            "style": "IPY_MODEL_43c6adb6b2b64bb38405c6d789f94601",
            "value": "Downloading tokenizer.json: 100%"
          }
        },
        "eff6f33d40c4452486c82c0de7559f4a": {
          "model_module": "@jupyter-widgets/controls",
          "model_name": "FloatProgressModel",
          "model_module_version": "1.5.0",
          "state": {
            "_dom_classes": [],
            "_model_module": "@jupyter-widgets/controls",
            "_model_module_version": "1.5.0",
            "_model_name": "FloatProgressModel",
            "_view_count": null,
            "_view_module": "@jupyter-widgets/controls",
            "_view_module_version": "1.5.0",
            "_view_name": "ProgressView",
            "bar_style": "success",
            "description": "",
            "description_tooltip": null,
            "layout": "IPY_MODEL_5da4eefd28d0466d8dd06e74c4f8239f",
            "max": 14500438,
            "min": 0,
            "orientation": "horizontal",
            "style": "IPY_MODEL_31dbf7b808714e5cb77339160aa35c67",
            "value": 14500438
          }
        },
        "4b53ccd1be42414996db68d1aeb94671": {
          "model_module": "@jupyter-widgets/controls",
          "model_name": "HTMLModel",
          "model_module_version": "1.5.0",
          "state": {
            "_dom_classes": [],
            "_model_module": "@jupyter-widgets/controls",
            "_model_module_version": "1.5.0",
            "_model_name": "HTMLModel",
            "_view_count": null,
            "_view_module": "@jupyter-widgets/controls",
            "_view_module_version": "1.5.0",
            "_view_name": "HTMLView",
            "description": "",
            "description_tooltip": null,
            "layout": "IPY_MODEL_f2aa921575bc49449fb9db822ede350d",
            "placeholder": "​",
            "style": "IPY_MODEL_eae26bf13807426897ede7e5bf2a9879",
            "value": " 13.8M/13.8M [00:00&lt;00:00, 31.4MB/s]"
          }
        },
        "3ef80d3122bf4573bb3a4057b6aa39ba": {
          "model_module": "@jupyter-widgets/base",
          "model_name": "LayoutModel",
          "model_module_version": "1.2.0",
          "state": {
            "_model_module": "@jupyter-widgets/base",
            "_model_module_version": "1.2.0",
            "_model_name": "LayoutModel",
            "_view_count": null,
            "_view_module": "@jupyter-widgets/base",
            "_view_module_version": "1.2.0",
            "_view_name": "LayoutView",
            "align_content": null,
            "align_items": null,
            "align_self": null,
            "border": null,
            "bottom": null,
            "display": null,
            "flex": null,
            "flex_flow": null,
            "grid_area": null,
            "grid_auto_columns": null,
            "grid_auto_flow": null,
            "grid_auto_rows": null,
            "grid_column": null,
            "grid_gap": null,
            "grid_row": null,
            "grid_template_areas": null,
            "grid_template_columns": null,
            "grid_template_rows": null,
            "height": null,
            "justify_content": null,
            "justify_items": null,
            "left": null,
            "margin": null,
            "max_height": null,
            "max_width": null,
            "min_height": null,
            "min_width": null,
            "object_fit": null,
            "object_position": null,
            "order": null,
            "overflow": null,
            "overflow_x": null,
            "overflow_y": null,
            "padding": null,
            "right": null,
            "top": null,
            "visibility": null,
            "width": null
          }
        },
        "f605c566a7db4232988c2ff76b87effd": {
          "model_module": "@jupyter-widgets/base",
          "model_name": "LayoutModel",
          "model_module_version": "1.2.0",
          "state": {
            "_model_module": "@jupyter-widgets/base",
            "_model_module_version": "1.2.0",
            "_model_name": "LayoutModel",
            "_view_count": null,
            "_view_module": "@jupyter-widgets/base",
            "_view_module_version": "1.2.0",
            "_view_name": "LayoutView",
            "align_content": null,
            "align_items": null,
            "align_self": null,
            "border": null,
            "bottom": null,
            "display": null,
            "flex": null,
            "flex_flow": null,
            "grid_area": null,
            "grid_auto_columns": null,
            "grid_auto_flow": null,
            "grid_auto_rows": null,
            "grid_column": null,
            "grid_gap": null,
            "grid_row": null,
            "grid_template_areas": null,
            "grid_template_columns": null,
            "grid_template_rows": null,
            "height": null,
            "justify_content": null,
            "justify_items": null,
            "left": null,
            "margin": null,
            "max_height": null,
            "max_width": null,
            "min_height": null,
            "min_width": null,
            "object_fit": null,
            "object_position": null,
            "order": null,
            "overflow": null,
            "overflow_x": null,
            "overflow_y": null,
            "padding": null,
            "right": null,
            "top": null,
            "visibility": null,
            "width": null
          }
        },
        "43c6adb6b2b64bb38405c6d789f94601": {
          "model_module": "@jupyter-widgets/controls",
          "model_name": "DescriptionStyleModel",
          "model_module_version": "1.5.0",
          "state": {
            "_model_module": "@jupyter-widgets/controls",
            "_model_module_version": "1.5.0",
            "_model_name": "DescriptionStyleModel",
            "_view_count": null,
            "_view_module": "@jupyter-widgets/base",
            "_view_module_version": "1.2.0",
            "_view_name": "StyleView",
            "description_width": ""
          }
        },
        "5da4eefd28d0466d8dd06e74c4f8239f": {
          "model_module": "@jupyter-widgets/base",
          "model_name": "LayoutModel",
          "model_module_version": "1.2.0",
          "state": {
            "_model_module": "@jupyter-widgets/base",
            "_model_module_version": "1.2.0",
            "_model_name": "LayoutModel",
            "_view_count": null,
            "_view_module": "@jupyter-widgets/base",
            "_view_module_version": "1.2.0",
            "_view_name": "LayoutView",
            "align_content": null,
            "align_items": null,
            "align_self": null,
            "border": null,
            "bottom": null,
            "display": null,
            "flex": null,
            "flex_flow": null,
            "grid_area": null,
            "grid_auto_columns": null,
            "grid_auto_flow": null,
            "grid_auto_rows": null,
            "grid_column": null,
            "grid_gap": null,
            "grid_row": null,
            "grid_template_areas": null,
            "grid_template_columns": null,
            "grid_template_rows": null,
            "height": null,
            "justify_content": null,
            "justify_items": null,
            "left": null,
            "margin": null,
            "max_height": null,
            "max_width": null,
            "min_height": null,
            "min_width": null,
            "object_fit": null,
            "object_position": null,
            "order": null,
            "overflow": null,
            "overflow_x": null,
            "overflow_y": null,
            "padding": null,
            "right": null,
            "top": null,
            "visibility": null,
            "width": null
          }
        },
        "31dbf7b808714e5cb77339160aa35c67": {
          "model_module": "@jupyter-widgets/controls",
          "model_name": "ProgressStyleModel",
          "model_module_version": "1.5.0",
          "state": {
            "_model_module": "@jupyter-widgets/controls",
            "_model_module_version": "1.5.0",
            "_model_name": "ProgressStyleModel",
            "_view_count": null,
            "_view_module": "@jupyter-widgets/base",
            "_view_module_version": "1.2.0",
            "_view_name": "StyleView",
            "bar_color": null,
            "description_width": ""
          }
        },
        "f2aa921575bc49449fb9db822ede350d": {
          "model_module": "@jupyter-widgets/base",
          "model_name": "LayoutModel",
          "model_module_version": "1.2.0",
          "state": {
            "_model_module": "@jupyter-widgets/base",
            "_model_module_version": "1.2.0",
            "_model_name": "LayoutModel",
            "_view_count": null,
            "_view_module": "@jupyter-widgets/base",
            "_view_module_version": "1.2.0",
            "_view_name": "LayoutView",
            "align_content": null,
            "align_items": null,
            "align_self": null,
            "border": null,
            "bottom": null,
            "display": null,
            "flex": null,
            "flex_flow": null,
            "grid_area": null,
            "grid_auto_columns": null,
            "grid_auto_flow": null,
            "grid_auto_rows": null,
            "grid_column": null,
            "grid_gap": null,
            "grid_row": null,
            "grid_template_areas": null,
            "grid_template_columns": null,
            "grid_template_rows": null,
            "height": null,
            "justify_content": null,
            "justify_items": null,
            "left": null,
            "margin": null,
            "max_height": null,
            "max_width": null,
            "min_height": null,
            "min_width": null,
            "object_fit": null,
            "object_position": null,
            "order": null,
            "overflow": null,
            "overflow_x": null,
            "overflow_y": null,
            "padding": null,
            "right": null,
            "top": null,
            "visibility": null,
            "width": null
          }
        },
        "eae26bf13807426897ede7e5bf2a9879": {
          "model_module": "@jupyter-widgets/controls",
          "model_name": "DescriptionStyleModel",
          "model_module_version": "1.5.0",
          "state": {
            "_model_module": "@jupyter-widgets/controls",
            "_model_module_version": "1.5.0",
            "_model_name": "DescriptionStyleModel",
            "_view_count": null,
            "_view_module": "@jupyter-widgets/base",
            "_view_module_version": "1.2.0",
            "_view_name": "StyleView",
            "description_width": ""
          }
        },
        "060bacba5ca14c5eb99e31d252582774": {
          "model_module": "@jupyter-widgets/controls",
          "model_name": "HBoxModel",
          "model_module_version": "1.5.0",
          "state": {
            "_dom_classes": [],
            "_model_module": "@jupyter-widgets/controls",
            "_model_module_version": "1.5.0",
            "_model_name": "HBoxModel",
            "_view_count": null,
            "_view_module": "@jupyter-widgets/controls",
            "_view_module_version": "1.5.0",
            "_view_name": "HBoxView",
            "box_style": "",
            "children": [
              "IPY_MODEL_c1a9060c412941edbb42ac5baefe9258",
              "IPY_MODEL_45816488a47e49f0b361f30f4ace23a1",
              "IPY_MODEL_fe41b6e5f7714a30851afb784ff678d1"
            ],
            "layout": "IPY_MODEL_d6200ac3e8b24c2b9cd945fb923da5a9"
          }
        },
        "c1a9060c412941edbb42ac5baefe9258": {
          "model_module": "@jupyter-widgets/controls",
          "model_name": "HTMLModel",
          "model_module_version": "1.5.0",
          "state": {
            "_dom_classes": [],
            "_model_module": "@jupyter-widgets/controls",
            "_model_module_version": "1.5.0",
            "_model_name": "HTMLModel",
            "_view_count": null,
            "_view_module": "@jupyter-widgets/controls",
            "_view_module_version": "1.5.0",
            "_view_name": "HTMLView",
            "description": "",
            "description_tooltip": null,
            "layout": "IPY_MODEL_56d323d37c5d466db42705dda13c1e64",
            "placeholder": "​",
            "style": "IPY_MODEL_5675b6f4a1014de88bdfae115256cba0",
            "value": "Downloading special_tokens_map.json: 100%"
          }
        },
        "45816488a47e49f0b361f30f4ace23a1": {
          "model_module": "@jupyter-widgets/controls",
          "model_name": "FloatProgressModel",
          "model_module_version": "1.5.0",
          "state": {
            "_dom_classes": [],
            "_model_module": "@jupyter-widgets/controls",
            "_model_module_version": "1.5.0",
            "_model_name": "FloatProgressModel",
            "_view_count": null,
            "_view_module": "@jupyter-widgets/controls",
            "_view_module_version": "1.5.0",
            "_view_name": "ProgressView",
            "bar_style": "success",
            "description": "",
            "description_tooltip": null,
            "layout": "IPY_MODEL_637560215fb54a63a70a377b10571112",
            "max": 85,
            "min": 0,
            "orientation": "horizontal",
            "style": "IPY_MODEL_e9278567b9054ac6980e9edb25fb320f",
            "value": 85
          }
        },
        "fe41b6e5f7714a30851afb784ff678d1": {
          "model_module": "@jupyter-widgets/controls",
          "model_name": "HTMLModel",
          "model_module_version": "1.5.0",
          "state": {
            "_dom_classes": [],
            "_model_module": "@jupyter-widgets/controls",
            "_model_module_version": "1.5.0",
            "_model_name": "HTMLModel",
            "_view_count": null,
            "_view_module": "@jupyter-widgets/controls",
            "_view_module_version": "1.5.0",
            "_view_name": "HTMLView",
            "description": "",
            "description_tooltip": null,
            "layout": "IPY_MODEL_65ba7443edd94478b47d735c6118930c",
            "placeholder": "​",
            "style": "IPY_MODEL_85a531fb12e548c596dfc913ede7efe9",
            "value": " 85.0/85.0 [00:00&lt;00:00, 1.78kB/s]"
          }
        },
        "d6200ac3e8b24c2b9cd945fb923da5a9": {
          "model_module": "@jupyter-widgets/base",
          "model_name": "LayoutModel",
          "model_module_version": "1.2.0",
          "state": {
            "_model_module": "@jupyter-widgets/base",
            "_model_module_version": "1.2.0",
            "_model_name": "LayoutModel",
            "_view_count": null,
            "_view_module": "@jupyter-widgets/base",
            "_view_module_version": "1.2.0",
            "_view_name": "LayoutView",
            "align_content": null,
            "align_items": null,
            "align_self": null,
            "border": null,
            "bottom": null,
            "display": null,
            "flex": null,
            "flex_flow": null,
            "grid_area": null,
            "grid_auto_columns": null,
            "grid_auto_flow": null,
            "grid_auto_rows": null,
            "grid_column": null,
            "grid_gap": null,
            "grid_row": null,
            "grid_template_areas": null,
            "grid_template_columns": null,
            "grid_template_rows": null,
            "height": null,
            "justify_content": null,
            "justify_items": null,
            "left": null,
            "margin": null,
            "max_height": null,
            "max_width": null,
            "min_height": null,
            "min_width": null,
            "object_fit": null,
            "object_position": null,
            "order": null,
            "overflow": null,
            "overflow_x": null,
            "overflow_y": null,
            "padding": null,
            "right": null,
            "top": null,
            "visibility": null,
            "width": null
          }
        },
        "56d323d37c5d466db42705dda13c1e64": {
          "model_module": "@jupyter-widgets/base",
          "model_name": "LayoutModel",
          "model_module_version": "1.2.0",
          "state": {
            "_model_module": "@jupyter-widgets/base",
            "_model_module_version": "1.2.0",
            "_model_name": "LayoutModel",
            "_view_count": null,
            "_view_module": "@jupyter-widgets/base",
            "_view_module_version": "1.2.0",
            "_view_name": "LayoutView",
            "align_content": null,
            "align_items": null,
            "align_self": null,
            "border": null,
            "bottom": null,
            "display": null,
            "flex": null,
            "flex_flow": null,
            "grid_area": null,
            "grid_auto_columns": null,
            "grid_auto_flow": null,
            "grid_auto_rows": null,
            "grid_column": null,
            "grid_gap": null,
            "grid_row": null,
            "grid_template_areas": null,
            "grid_template_columns": null,
            "grid_template_rows": null,
            "height": null,
            "justify_content": null,
            "justify_items": null,
            "left": null,
            "margin": null,
            "max_height": null,
            "max_width": null,
            "min_height": null,
            "min_width": null,
            "object_fit": null,
            "object_position": null,
            "order": null,
            "overflow": null,
            "overflow_x": null,
            "overflow_y": null,
            "padding": null,
            "right": null,
            "top": null,
            "visibility": null,
            "width": null
          }
        },
        "5675b6f4a1014de88bdfae115256cba0": {
          "model_module": "@jupyter-widgets/controls",
          "model_name": "DescriptionStyleModel",
          "model_module_version": "1.5.0",
          "state": {
            "_model_module": "@jupyter-widgets/controls",
            "_model_module_version": "1.5.0",
            "_model_name": "DescriptionStyleModel",
            "_view_count": null,
            "_view_module": "@jupyter-widgets/base",
            "_view_module_version": "1.2.0",
            "_view_name": "StyleView",
            "description_width": ""
          }
        },
        "637560215fb54a63a70a377b10571112": {
          "model_module": "@jupyter-widgets/base",
          "model_name": "LayoutModel",
          "model_module_version": "1.2.0",
          "state": {
            "_model_module": "@jupyter-widgets/base",
            "_model_module_version": "1.2.0",
            "_model_name": "LayoutModel",
            "_view_count": null,
            "_view_module": "@jupyter-widgets/base",
            "_view_module_version": "1.2.0",
            "_view_name": "LayoutView",
            "align_content": null,
            "align_items": null,
            "align_self": null,
            "border": null,
            "bottom": null,
            "display": null,
            "flex": null,
            "flex_flow": null,
            "grid_area": null,
            "grid_auto_columns": null,
            "grid_auto_flow": null,
            "grid_auto_rows": null,
            "grid_column": null,
            "grid_gap": null,
            "grid_row": null,
            "grid_template_areas": null,
            "grid_template_columns": null,
            "grid_template_rows": null,
            "height": null,
            "justify_content": null,
            "justify_items": null,
            "left": null,
            "margin": null,
            "max_height": null,
            "max_width": null,
            "min_height": null,
            "min_width": null,
            "object_fit": null,
            "object_position": null,
            "order": null,
            "overflow": null,
            "overflow_x": null,
            "overflow_y": null,
            "padding": null,
            "right": null,
            "top": null,
            "visibility": null,
            "width": null
          }
        },
        "e9278567b9054ac6980e9edb25fb320f": {
          "model_module": "@jupyter-widgets/controls",
          "model_name": "ProgressStyleModel",
          "model_module_version": "1.5.0",
          "state": {
            "_model_module": "@jupyter-widgets/controls",
            "_model_module_version": "1.5.0",
            "_model_name": "ProgressStyleModel",
            "_view_count": null,
            "_view_module": "@jupyter-widgets/base",
            "_view_module_version": "1.2.0",
            "_view_name": "StyleView",
            "bar_color": null,
            "description_width": ""
          }
        },
        "65ba7443edd94478b47d735c6118930c": {
          "model_module": "@jupyter-widgets/base",
          "model_name": "LayoutModel",
          "model_module_version": "1.2.0",
          "state": {
            "_model_module": "@jupyter-widgets/base",
            "_model_module_version": "1.2.0",
            "_model_name": "LayoutModel",
            "_view_count": null,
            "_view_module": "@jupyter-widgets/base",
            "_view_module_version": "1.2.0",
            "_view_name": "LayoutView",
            "align_content": null,
            "align_items": null,
            "align_self": null,
            "border": null,
            "bottom": null,
            "display": null,
            "flex": null,
            "flex_flow": null,
            "grid_area": null,
            "grid_auto_columns": null,
            "grid_auto_flow": null,
            "grid_auto_rows": null,
            "grid_column": null,
            "grid_gap": null,
            "grid_row": null,
            "grid_template_areas": null,
            "grid_template_columns": null,
            "grid_template_rows": null,
            "height": null,
            "justify_content": null,
            "justify_items": null,
            "left": null,
            "margin": null,
            "max_height": null,
            "max_width": null,
            "min_height": null,
            "min_width": null,
            "object_fit": null,
            "object_position": null,
            "order": null,
            "overflow": null,
            "overflow_x": null,
            "overflow_y": null,
            "padding": null,
            "right": null,
            "top": null,
            "visibility": null,
            "width": null
          }
        },
        "85a531fb12e548c596dfc913ede7efe9": {
          "model_module": "@jupyter-widgets/controls",
          "model_name": "DescriptionStyleModel",
          "model_module_version": "1.5.0",
          "state": {
            "_model_module": "@jupyter-widgets/controls",
            "_model_module_version": "1.5.0",
            "_model_name": "DescriptionStyleModel",
            "_view_count": null,
            "_view_module": "@jupyter-widgets/base",
            "_view_module_version": "1.2.0",
            "_view_name": "StyleView",
            "description_width": ""
          }
        }
      }
    }
  },
  "nbformat": 4,
  "nbformat_minor": 0
}